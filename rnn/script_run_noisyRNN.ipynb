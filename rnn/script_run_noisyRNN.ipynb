{
 "cells": [
  {
   "cell_type": "markdown",
   "id": "e78c1a21-203d-4b21-a5df-e3edd234bde1",
   "metadata": {},
   "source": [
    "## Example usage of run_noisy_rnn"
   ]
  },
  {
   "cell_type": "code",
   "execution_count": null,
   "id": "7c7c6c33-33cd-4790-9c99-2ab86c0efdf5",
   "metadata": {},
   "outputs": [],
   "source": [
    "# \n",
    "import run_noisyRNN_bayes as run_noisyRNN\n",
    "\n",
    "# set arguments\n",
    "n_units   = 32\n",
    "noise_val = 0.5\n",
    "cos_targ  = 40\n",
    "\n",
    "# run training\n",
    "run_noisyRNN.run_noisyRNN(n_units, noise_val, cos_targ)\n"
   ]
  }
 ],
 "metadata": {
  "kernelspec": {
   "display_name": "Python 3 (ipykernel)",
   "language": "python",
   "name": "python3"
  },
  "language_info": {
   "codemirror_mode": {
    "name": "ipython",
    "version": 3
   },
   "file_extension": ".py",
   "mimetype": "text/x-python",
   "name": "python",
   "nbconvert_exporter": "python",
   "pygments_lexer": "ipython3",
   "version": "3.12.1"
  }
 },
 "nbformat": 4,
 "nbformat_minor": 5
}
